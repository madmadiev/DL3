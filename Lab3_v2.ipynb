{
  "nbformat": 4,
  "nbformat_minor": 0,
  "metadata": {
    "colab": {
      "provenance": [],
      "gpuType": "T4"
    },
    "kernelspec": {
      "name": "python3",
      "display_name": "Python 3"
    },
    "language_info": {
      "name": "python"
    },
    "accelerator": "GPU"
  },
  "cells": [
    {
      "cell_type": "code",
      "execution_count": 3,
      "metadata": {
        "id": "Lj-FGu5kwC3n"
      },
      "outputs": [],
      "source": [
        "from tensorflow.keras.datasets import fashion_mnist\n",
        "from tensorflow.keras.models import Sequential\n",
        "from tensorflow.keras.layers import Dense, Conv2D, MaxPooling2D, Flatten\n",
        "from tensorflow.keras.utils import to_categorical\n",
        "from tensorflow.keras import optimizers\n",
        "from tensorflow.keras import initializers\n",
        "import numpy as np"
      ]
    },
    {
      "cell_type": "code",
      "source": [
        "# Загрузка данных\n",
        "(x_train, y_train), (x_test, y_test) = fashion_mnist.load_data()"
      ],
      "metadata": {
        "colab": {
          "base_uri": "https://localhost:8080/"
        },
        "id": "EHvh3w3wwQAm",
        "outputId": "93e17b23-e4cb-413b-e53f-63fad842c028"
      },
      "execution_count": 4,
      "outputs": [
        {
          "output_type": "stream",
          "name": "stdout",
          "text": [
            "Downloading data from https://storage.googleapis.com/tensorflow/tf-keras-datasets/train-labels-idx1-ubyte.gz\n",
            "\u001b[1m29515/29515\u001b[0m \u001b[32m━━━━━━━━━━━━━━━━━━━━\u001b[0m\u001b[37m\u001b[0m \u001b[1m0s\u001b[0m 0us/step\n",
            "Downloading data from https://storage.googleapis.com/tensorflow/tf-keras-datasets/train-images-idx3-ubyte.gz\n",
            "\u001b[1m26421880/26421880\u001b[0m \u001b[32m━━━━━━━━━━━━━━━━━━━━\u001b[0m\u001b[37m\u001b[0m \u001b[1m0s\u001b[0m 0us/step\n",
            "Downloading data from https://storage.googleapis.com/tensorflow/tf-keras-datasets/t10k-labels-idx1-ubyte.gz\n",
            "\u001b[1m5148/5148\u001b[0m \u001b[32m━━━━━━━━━━━━━━━━━━━━\u001b[0m\u001b[37m\u001b[0m \u001b[1m0s\u001b[0m 0us/step\n",
            "Downloading data from https://storage.googleapis.com/tensorflow/tf-keras-datasets/t10k-images-idx3-ubyte.gz\n",
            "\u001b[1m4422102/4422102\u001b[0m \u001b[32m━━━━━━━━━━━━━━━━━━━━\u001b[0m\u001b[37m\u001b[0m \u001b[1m0s\u001b[0m 0us/step\n"
          ]
        }
      ]
    },
    {
      "cell_type": "code",
      "source": [
        "# Предобработка данных для персептрона\n",
        "x_train_flat = x_train.reshape(x_train.shape[0], -1) / 255.0\n",
        "x_test_flat = x_test.reshape(x_test.shape[0], -1) / 255.0\n",
        "y_train_cat = to_categorical(y_train)\n",
        "y_test_cat = to_categorical(y_test)"
      ],
      "metadata": {
        "id": "5zGncXAiwRrh"
      },
      "execution_count": 5,
      "outputs": []
    },
    {
      "cell_type": "code",
      "source": [
        "# Разделение на train и validation\n",
        "val_size = int(0.1 * x_train_flat.shape[0])\n",
        "x_val = x_train_flat[:val_size]\n",
        "y_val = y_train_cat[:val_size]\n",
        "x_train_final = x_train_flat[val_size:]\n",
        "y_train_final = y_train_cat[val_size:]"
      ],
      "metadata": {
        "id": "F_0IuvhIwT3F"
      },
      "execution_count": 6,
      "outputs": []
    },
    {
      "cell_type": "code",
      "source": [
        "# 1. Однослойный персептрон\n",
        "model1 = Sequential([\n",
        "    Dense(10, input_dim=784, activation='softmax')\n",
        "])\n",
        "model1.compile(loss='categorical_crossentropy', optimizer='adam', metrics=['accuracy'])\n",
        "model1.fit(x_train_final, y_train_final, epochs=10, validation_data=(x_val, y_val))\n",
        "_, test_acc1 = model1.evaluate(x_test_flat, y_test_cat)\n",
        "print(f\"Test accuracy (1-layer): {test_acc1}\")"
      ],
      "metadata": {
        "colab": {
          "base_uri": "https://localhost:8080/"
        },
        "id": "0SsENVNqwWGr",
        "outputId": "8989740b-e0f5-4986-c221-739ec39e7a42"
      },
      "execution_count": null,
      "outputs": [
        {
          "output_type": "stream",
          "name": "stderr",
          "text": [
            "/usr/local/lib/python3.11/dist-packages/keras/src/layers/core/dense.py:87: UserWarning: Do not pass an `input_shape`/`input_dim` argument to a layer. When using Sequential models, prefer using an `Input(shape)` object as the first layer in the model instead.\n",
            "  super().__init__(activity_regularizer=activity_regularizer, **kwargs)\n"
          ]
        },
        {
          "output_type": "stream",
          "name": "stdout",
          "text": [
            "Epoch 1/10\n",
            "\u001b[1m1688/1688\u001b[0m \u001b[32m━━━━━━━━━━━━━━━━━━━━\u001b[0m\u001b[37m\u001b[0m \u001b[1m6s\u001b[0m 3ms/step - accuracy: 0.7343 - loss: 0.7975 - val_accuracy: 0.8430 - val_loss: 0.4830\n",
            "Epoch 2/10\n",
            "\u001b[1m1688/1688\u001b[0m \u001b[32m━━━━━━━━━━━━━━━━━━━━\u001b[0m\u001b[37m\u001b[0m \u001b[1m4s\u001b[0m 2ms/step - accuracy: 0.8343 - loss: 0.4804 - val_accuracy: 0.8465 - val_loss: 0.4660\n",
            "Epoch 3/10\n",
            "\u001b[1m1688/1688\u001b[0m \u001b[32m━━━━━━━━━━━━━━━━━━━━\u001b[0m\u001b[37m\u001b[0m \u001b[1m6s\u001b[0m 3ms/step - accuracy: 0.8483 - loss: 0.4382 - val_accuracy: 0.8505 - val_loss: 0.4375\n",
            "Epoch 4/10\n",
            "\u001b[1m1688/1688\u001b[0m \u001b[32m━━━━━━━━━━━━━━━━━━━━\u001b[0m\u001b[37m\u001b[0m \u001b[1m9s\u001b[0m 2ms/step - accuracy: 0.8530 - loss: 0.4245 - val_accuracy: 0.8462 - val_loss: 0.4378\n",
            "Epoch 5/10\n",
            "\u001b[1m1688/1688\u001b[0m \u001b[32m━━━━━━━━━━━━━━━━━━━━\u001b[0m\u001b[37m\u001b[0m \u001b[1m4s\u001b[0m 3ms/step - accuracy: 0.8543 - loss: 0.4204 - val_accuracy: 0.8537 - val_loss: 0.4247\n",
            "Epoch 6/10\n",
            "\u001b[1m1688/1688\u001b[0m \u001b[32m━━━━━━━━━━━━━━━━━━━━\u001b[0m\u001b[37m\u001b[0m \u001b[1m5s\u001b[0m 2ms/step - accuracy: 0.8595 - loss: 0.4072 - val_accuracy: 0.8548 - val_loss: 0.4306\n",
            "Epoch 7/10\n",
            "\u001b[1m1688/1688\u001b[0m \u001b[32m━━━━━━━━━━━━━━━━━━━━\u001b[0m\u001b[37m\u001b[0m \u001b[1m4s\u001b[0m 3ms/step - accuracy: 0.8610 - loss: 0.4036 - val_accuracy: 0.8538 - val_loss: 0.4282\n",
            "Epoch 8/10\n",
            "\u001b[1m1688/1688\u001b[0m \u001b[32m━━━━━━━━━━━━━━━━━━━━\u001b[0m\u001b[37m\u001b[0m \u001b[1m4s\u001b[0m 2ms/step - accuracy: 0.8637 - loss: 0.3961 - val_accuracy: 0.8575 - val_loss: 0.4156\n",
            "Epoch 9/10\n",
            "\u001b[1m1688/1688\u001b[0m \u001b[32m━━━━━━━━━━━━━━━━━━━━\u001b[0m\u001b[37m\u001b[0m \u001b[1m4s\u001b[0m 2ms/step - accuracy: 0.8586 - loss: 0.4022 - val_accuracy: 0.8517 - val_loss: 0.4278\n",
            "Epoch 10/10\n",
            "\u001b[1m1688/1688\u001b[0m \u001b[32m━━━━━━━━━━━━━━━━━━━━\u001b[0m\u001b[37m\u001b[0m \u001b[1m6s\u001b[0m 3ms/step - accuracy: 0.8631 - loss: 0.3943 - val_accuracy: 0.8572 - val_loss: 0.4171\n",
            "\u001b[1m313/313\u001b[0m \u001b[32m━━━━━━━━━━━━━━━━━━━━\u001b[0m\u001b[37m\u001b[0m \u001b[1m1s\u001b[0m 2ms/step - accuracy: 0.8489 - loss: 0.4367\n",
            "Test accuracy (1-layer): 0.8452000021934509\n"
          ]
        }
      ]
    },
    {
      "cell_type": "code",
      "source": [
        "# 2. Многослойный персептрон (50 нейронов в скрытом слое)\n",
        "model2 = Sequential([\n",
        "    Dense(50, input_dim=784, activation='relu'),\n",
        "    Dense(10, activation='softmax')\n",
        "])\n",
        "model2.compile(loss='categorical_crossentropy', optimizer='adam', metrics=['accuracy'])\n",
        "model2.fit(x_train_final, y_train_final, epochs=10, validation_data=(x_val, y_val))\n",
        "_, test_acc2 = model2.evaluate(x_test_flat, y_test_cat)\n",
        "print(f\"Test accuracy (2-layer): {test_acc2}\")"
      ],
      "metadata": {
        "colab": {
          "base_uri": "https://localhost:8080/"
        },
        "id": "amAQjmQSwxT5",
        "outputId": "8a4680a7-54af-4ed6-f569-a5dab251ffd0"
      },
      "execution_count": null,
      "outputs": [
        {
          "output_type": "stream",
          "name": "stdout",
          "text": [
            "Epoch 1/10\n",
            "\u001b[1m1688/1688\u001b[0m \u001b[32m━━━━━━━━━━━━━━━━━━━━\u001b[0m\u001b[37m\u001b[0m \u001b[1m8s\u001b[0m 4ms/step - accuracy: 0.7584 - loss: 0.7165 - val_accuracy: 0.8390 - val_loss: 0.4690\n",
            "Epoch 2/10\n",
            "\u001b[1m1688/1688\u001b[0m \u001b[32m━━━━━━━━━━━━━━━━━━━━\u001b[0m\u001b[37m\u001b[0m \u001b[1m8s\u001b[0m 3ms/step - accuracy: 0.8460 - loss: 0.4262 - val_accuracy: 0.8672 - val_loss: 0.3913\n",
            "Epoch 3/10\n",
            "\u001b[1m1688/1688\u001b[0m \u001b[32m━━━━━━━━━━━━━━━━━━━━\u001b[0m\u001b[37m\u001b[0m \u001b[1m5s\u001b[0m 2ms/step - accuracy: 0.8627 - loss: 0.3839 - val_accuracy: 0.8640 - val_loss: 0.3836\n",
            "Epoch 4/10\n",
            "\u001b[1m1688/1688\u001b[0m \u001b[32m━━━━━━━━━━━━━━━━━━━━\u001b[0m\u001b[37m\u001b[0m \u001b[1m5s\u001b[0m 2ms/step - accuracy: 0.8730 - loss: 0.3558 - val_accuracy: 0.8680 - val_loss: 0.3665\n",
            "Epoch 5/10\n",
            "\u001b[1m1688/1688\u001b[0m \u001b[32m━━━━━━━━━━━━━━━━━━━━\u001b[0m\u001b[37m\u001b[0m \u001b[1m5s\u001b[0m 2ms/step - accuracy: 0.8762 - loss: 0.3434 - val_accuracy: 0.8720 - val_loss: 0.3533\n",
            "Epoch 6/10\n",
            "\u001b[1m1688/1688\u001b[0m \u001b[32m━━━━━━━━━━━━━━━━━━━━\u001b[0m\u001b[37m\u001b[0m \u001b[1m5s\u001b[0m 3ms/step - accuracy: 0.8835 - loss: 0.3228 - val_accuracy: 0.8758 - val_loss: 0.3482\n",
            "Epoch 7/10\n",
            "\u001b[1m1688/1688\u001b[0m \u001b[32m━━━━━━━━━━━━━━━━━━━━\u001b[0m\u001b[37m\u001b[0m \u001b[1m6s\u001b[0m 3ms/step - accuracy: 0.8872 - loss: 0.3111 - val_accuracy: 0.8762 - val_loss: 0.3290\n",
            "Epoch 8/10\n",
            "\u001b[1m1688/1688\u001b[0m \u001b[32m━━━━━━━━━━━━━━━━━━━━\u001b[0m\u001b[37m\u001b[0m \u001b[1m4s\u001b[0m 2ms/step - accuracy: 0.8924 - loss: 0.3011 - val_accuracy: 0.8800 - val_loss: 0.3346\n",
            "Epoch 9/10\n",
            "\u001b[1m1688/1688\u001b[0m \u001b[32m━━━━━━━━━━━━━━━━━━━━\u001b[0m\u001b[37m\u001b[0m \u001b[1m4s\u001b[0m 3ms/step - accuracy: 0.8962 - loss: 0.2851 - val_accuracy: 0.8787 - val_loss: 0.3245\n",
            "Epoch 10/10\n",
            "\u001b[1m1688/1688\u001b[0m \u001b[32m━━━━━━━━━━━━━━━━━━━━\u001b[0m\u001b[37m\u001b[0m \u001b[1m4s\u001b[0m 3ms/step - accuracy: 0.8961 - loss: 0.2844 - val_accuracy: 0.8773 - val_loss: 0.3327\n",
            "\u001b[1m313/313\u001b[0m \u001b[32m━━━━━━━━━━━━━━━━━━━━\u001b[0m\u001b[37m\u001b[0m \u001b[1m1s\u001b[0m 2ms/step - accuracy: 0.8746 - loss: 0.3582\n",
            "Test accuracy (2-layer): 0.8722000122070312\n"
          ]
        }
      ]
    },
    {
      "cell_type": "code",
      "source": [
        "# 3. Глубокая сеть (2 скрытых слоя по 50 нейронов)\n",
        "model3 = Sequential([\n",
        "    Dense(50, input_dim=784, activation='relu'),\n",
        "    Dense(50, activation='relu'),\n",
        "    Dense(10, activation='softmax')\n",
        "])\n",
        "model3.compile(loss='categorical_crossentropy', optimizer='adam', metrics=['accuracy'])\n",
        "model3.fit(x_train_final, y_train_final, epochs=10, validation_data=(x_val, y_val))\n",
        "_, test_acc3 = model3.evaluate(x_test_flat, y_test_cat)\n",
        "print(f\"Test accuracy (3-layer): {test_acc3}\")"
      ],
      "metadata": {
        "colab": {
          "base_uri": "https://localhost:8080/"
        },
        "id": "amA0lmyLxAVN",
        "outputId": "b643c6f2-d1af-4f7f-c67c-929d8916c8ec"
      },
      "execution_count": null,
      "outputs": [
        {
          "output_type": "stream",
          "name": "stdout",
          "text": [
            "Epoch 1/10\n",
            "\u001b[1m1688/1688\u001b[0m \u001b[32m━━━━━━━━━━━━━━━━━━━━\u001b[0m\u001b[37m\u001b[0m \u001b[1m7s\u001b[0m 3ms/step - accuracy: 0.7600 - loss: 0.7068 - val_accuracy: 0.8558 - val_loss: 0.4125\n",
            "Epoch 2/10\n",
            "\u001b[1m1688/1688\u001b[0m \u001b[32m━━━━━━━━━━━━━━━━━━━━\u001b[0m\u001b[37m\u001b[0m \u001b[1m4s\u001b[0m 3ms/step - accuracy: 0.8542 - loss: 0.4072 - val_accuracy: 0.8523 - val_loss: 0.4030\n",
            "Epoch 3/10\n",
            "\u001b[1m1688/1688\u001b[0m \u001b[32m━━━━━━━━━━━━━━━━━━━━\u001b[0m\u001b[37m\u001b[0m \u001b[1m5s\u001b[0m 2ms/step - accuracy: 0.8677 - loss: 0.3622 - val_accuracy: 0.8600 - val_loss: 0.4121\n",
            "Epoch 4/10\n",
            "\u001b[1m1688/1688\u001b[0m \u001b[32m━━━━━━━━━━━━━━━━━━━━\u001b[0m\u001b[37m\u001b[0m \u001b[1m5s\u001b[0m 3ms/step - accuracy: 0.8752 - loss: 0.3420 - val_accuracy: 0.8730 - val_loss: 0.3525\n",
            "Epoch 5/10\n",
            "\u001b[1m1688/1688\u001b[0m \u001b[32m━━━━━━━━━━━━━━━━━━━━\u001b[0m\u001b[37m\u001b[0m \u001b[1m4s\u001b[0m 2ms/step - accuracy: 0.8825 - loss: 0.3230 - val_accuracy: 0.8792 - val_loss: 0.3320\n",
            "Epoch 6/10\n",
            "\u001b[1m1688/1688\u001b[0m \u001b[32m━━━━━━━━━━━━━━━━━━━━\u001b[0m\u001b[37m\u001b[0m \u001b[1m5s\u001b[0m 3ms/step - accuracy: 0.8866 - loss: 0.3051 - val_accuracy: 0.8800 - val_loss: 0.3286\n",
            "Epoch 7/10\n",
            "\u001b[1m1688/1688\u001b[0m \u001b[32m━━━━━━━━━━━━━━━━━━━━\u001b[0m\u001b[37m\u001b[0m \u001b[1m4s\u001b[0m 3ms/step - accuracy: 0.8897 - loss: 0.2983 - val_accuracy: 0.8767 - val_loss: 0.3380\n",
            "Epoch 8/10\n",
            "\u001b[1m1688/1688\u001b[0m \u001b[32m━━━━━━━━━━━━━━━━━━━━\u001b[0m\u001b[37m\u001b[0m \u001b[1m5s\u001b[0m 3ms/step - accuracy: 0.8977 - loss: 0.2755 - val_accuracy: 0.8843 - val_loss: 0.3242\n",
            "Epoch 9/10\n",
            "\u001b[1m1688/1688\u001b[0m \u001b[32m━━━━━━━━━━━━━━━━━━━━\u001b[0m\u001b[37m\u001b[0m \u001b[1m6s\u001b[0m 3ms/step - accuracy: 0.8979 - loss: 0.2726 - val_accuracy: 0.8873 - val_loss: 0.3143\n",
            "Epoch 10/10\n",
            "\u001b[1m1688/1688\u001b[0m \u001b[32m━━━━━━━━━━━━━━━━━━━━\u001b[0m\u001b[37m\u001b[0m \u001b[1m4s\u001b[0m 2ms/step - accuracy: 0.9003 - loss: 0.2626 - val_accuracy: 0.8872 - val_loss: 0.3131\n",
            "\u001b[1m313/313\u001b[0m \u001b[32m━━━━━━━━━━━━━━━━━━━━\u001b[0m\u001b[37m\u001b[0m \u001b[1m1s\u001b[0m 2ms/step - accuracy: 0.8830 - loss: 0.3314\n",
            "Test accuracy (3-layer): 0.8810999989509583\n"
          ]
        }
      ]
    },
    {
      "cell_type": "code",
      "source": [
        "# 4. Сверточная нейронная сеть\n",
        "x_train_cnn = x_train.reshape(-1, 28, 28, 1) / 255.0\n",
        "x_test_cnn = x_test.reshape(-1, 28, 28, 1) / 255.0\n",
        "\n",
        "# Разделение на train и validation для CNN\n",
        "x_val_cnn = x_train_cnn[:val_size]\n",
        "x_train_final_cnn = x_train_cnn[val_size:]\n",
        "\n",
        "model4 = Sequential([\n",
        "    Conv2D(64, kernel_size=2, padding='same', activation='relu', input_shape=(28,28,1)),\n",
        "    MaxPooling2D(pool_size=2),\n",
        "    Flatten(),\n",
        "    Dense(10, activation='softmax')\n",
        "])\n",
        "model4.compile(loss='categorical_crossentropy', optimizer='adam', metrics=['accuracy'])\n",
        "model4.fit(x_train_final_cnn, y_train_final, epochs=10, validation_data=(x_val_cnn, y_val))\n",
        "_, test_acc4 = model4.evaluate(x_test_cnn, y_test_cat)\n",
        "print(f\"Test accuracy (CNN): {test_acc4}\")"
      ],
      "metadata": {
        "colab": {
          "base_uri": "https://localhost:8080/"
        },
        "id": "5kQJLxPUxaL4",
        "outputId": "b9e3814b-c468-4aba-cc7f-c699a4035cc8"
      },
      "execution_count": null,
      "outputs": [
        {
          "output_type": "stream",
          "name": "stderr",
          "text": [
            "/usr/local/lib/python3.11/dist-packages/keras/src/layers/convolutional/base_conv.py:107: UserWarning: Do not pass an `input_shape`/`input_dim` argument to a layer. When using Sequential models, prefer using an `Input(shape)` object as the first layer in the model instead.\n",
            "  super().__init__(activity_regularizer=activity_regularizer, **kwargs)\n"
          ]
        },
        {
          "output_type": "stream",
          "name": "stdout",
          "text": [
            "Epoch 1/10\n",
            "\u001b[1m1688/1688\u001b[0m \u001b[32m━━━━━━━━━━━━━━━━━━━━\u001b[0m\u001b[37m\u001b[0m \u001b[1m8s\u001b[0m 4ms/step - accuracy: 0.7989 - loss: 0.5830 - val_accuracy: 0.8743 - val_loss: 0.3576\n",
            "Epoch 2/10\n",
            "\u001b[1m1688/1688\u001b[0m \u001b[32m━━━━━━━━━━━━━━━━━━━━\u001b[0m\u001b[37m\u001b[0m \u001b[1m7s\u001b[0m 3ms/step - accuracy: 0.8837 - loss: 0.3244 - val_accuracy: 0.8902 - val_loss: 0.3180\n",
            "Epoch 3/10\n",
            "\u001b[1m1688/1688\u001b[0m \u001b[32m━━━━━━━━━━━━━━━━━━━━\u001b[0m\u001b[37m\u001b[0m \u001b[1m5s\u001b[0m 3ms/step - accuracy: 0.8982 - loss: 0.2884 - val_accuracy: 0.8993 - val_loss: 0.2918\n",
            "Epoch 4/10\n",
            "\u001b[1m1688/1688\u001b[0m \u001b[32m━━━━━━━━━━━━━━━━━━━━\u001b[0m\u001b[37m\u001b[0m \u001b[1m5s\u001b[0m 3ms/step - accuracy: 0.9069 - loss: 0.2631 - val_accuracy: 0.8955 - val_loss: 0.2986\n",
            "Epoch 5/10\n",
            "\u001b[1m1688/1688\u001b[0m \u001b[32m━━━━━━━━━━━━━━━━━━━━\u001b[0m\u001b[37m\u001b[0m \u001b[1m5s\u001b[0m 3ms/step - accuracy: 0.9123 - loss: 0.2463 - val_accuracy: 0.9015 - val_loss: 0.2837\n",
            "Epoch 6/10\n",
            "\u001b[1m1688/1688\u001b[0m \u001b[32m━━━━━━━━━━━━━━━━━━━━\u001b[0m\u001b[37m\u001b[0m \u001b[1m5s\u001b[0m 3ms/step - accuracy: 0.9173 - loss: 0.2385 - val_accuracy: 0.8997 - val_loss: 0.2911\n",
            "Epoch 7/10\n",
            "\u001b[1m1688/1688\u001b[0m \u001b[32m━━━━━━━━━━━━━━━━━━━━\u001b[0m\u001b[37m\u001b[0m \u001b[1m10s\u001b[0m 3ms/step - accuracy: 0.9217 - loss: 0.2155 - val_accuracy: 0.9058 - val_loss: 0.2782\n",
            "Epoch 8/10\n",
            "\u001b[1m1688/1688\u001b[0m \u001b[32m━━━━━━━━━━━━━━━━━━━━\u001b[0m\u001b[37m\u001b[0m \u001b[1m5s\u001b[0m 3ms/step - accuracy: 0.9271 - loss: 0.2063 - val_accuracy: 0.8953 - val_loss: 0.2964\n",
            "Epoch 9/10\n",
            "\u001b[1m1688/1688\u001b[0m \u001b[32m━━━━━━━━━━━━━━━━━━━━\u001b[0m\u001b[37m\u001b[0m \u001b[1m5s\u001b[0m 3ms/step - accuracy: 0.9313 - loss: 0.1937 - val_accuracy: 0.9050 - val_loss: 0.2790\n",
            "Epoch 10/10\n",
            "\u001b[1m1688/1688\u001b[0m \u001b[32m━━━━━━━━━━━━━━━━━━━━\u001b[0m\u001b[37m\u001b[0m \u001b[1m6s\u001b[0m 3ms/step - accuracy: 0.9349 - loss: 0.1852 - val_accuracy: 0.9057 - val_loss: 0.2818\n",
            "\u001b[1m313/313\u001b[0m \u001b[32m━━━━━━━━━━━━━━━━━━━━\u001b[0m\u001b[37m\u001b[0m \u001b[1m1s\u001b[0m 2ms/step - accuracy: 0.9032 - loss: 0.2901\n",
            "Test accuracy (CNN): 0.8982999920845032\n"
          ]
        }
      ]
    },
    {
      "cell_type": "code",
      "source": [
        "# Сравнение результатов\n",
        "print(\"\\nModel comparison:\")\n",
        "print(f\"1-layer perceptron: {test_acc1:.4f}\")\n",
        "print(f\"2-layer perceptron: {test_acc2:.4f}\")\n",
        "print(f\"3-layer perceptron: {test_acc3:.4f}\")\n",
        "print(f\"CNN: {test_acc4:.4f}\")"
      ],
      "metadata": {
        "colab": {
          "base_uri": "https://localhost:8080/"
        },
        "id": "vUq_edR_xyyq",
        "outputId": "7c430a87-bd92-4284-afba-39cca72647bb"
      },
      "execution_count": null,
      "outputs": [
        {
          "output_type": "stream",
          "name": "stdout",
          "text": [
            "\n",
            "Model comparison:\n",
            "1-layer perceptron: 0.8452\n",
            "2-layer perceptron: 0.8722\n",
            "3-layer perceptron: 0.8811\n",
            "CNN: 0.8983\n"
          ]
        }
      ]
    },
    {
      "cell_type": "markdown",
      "source": [
        "Далее идет вариант собственной архитектуры 1."
      ],
      "metadata": {
        "id": "TDaeaQlW-NAQ"
      }
    },
    {
      "cell_type": "code",
      "source": [
        "# Вариант №5 (2-2-1)\n",
        "\n",
        "# Параметры модели\n",
        "learning_rate = 0.5\n",
        "X = np.array([[0.4, -0.7]])  # Входной вектор\n",
        "Y = np.array([[0.5]])        # Эталонный выход\n",
        "\n",
        "# Инициализация весов\n",
        "W1 = np.array([[0.4, -0.7],   # Матрица весов 1-го слоя (4x2)\n",
        "               [1.2, 0.6],\n",
        "               [0.1, 0.5],\n",
        "               [-1.4, 0.5]])\n",
        "\n",
        "W2 = np.array([[-0.8],        # Матрица весов 2-го слоя (3x1)\n",
        "               [0.3],\n",
        "               [0.5]])"
      ],
      "metadata": {
        "id": "Fju0JQmtrULQ"
      },
      "execution_count": 8,
      "outputs": []
    },
    {
      "cell_type": "code",
      "source": [
        "# Создание комбинированной модели (2-2-1)\n",
        "model = Sequential()"
      ],
      "metadata": {
        "id": "rM6Ap54-z_y5"
      },
      "execution_count": 9,
      "outputs": []
    },
    {
      "cell_type": "code",
      "source": [
        "# Первый блок (модель2) - 2 слоя по 50 нейронов\n",
        "model.add(Dense(50, input_dim=2,\n",
        "               kernel_initializer='glorot_uniform',\n",
        "               activation='sigmoid'))\n",
        "model.add(Dense(50,\n",
        "               kernel_initializer='glorot_uniform',\n",
        "               activation='sigmoid'))\n",
        "# Второй блок (модель2) - еще 2 слоя по 50 нейронов\n",
        "model.add(Dense(50,\n",
        "               kernel_initializer='glorot_uniform',\n",
        "               activation='sigmoid'))\n",
        "model.add(Dense(50,\n",
        "               kernel_initializer='glorot_uniform',\n",
        "               activation='sigmoid'))\n",
        "# Третий блок (модель1) - 1 слой с 1 нейроном\n",
        "model.add(Dense(1,\n",
        "               kernel_initializer=initializers.Constant(W2[:1,:]),\n",
        "               activation='sigmoid'))\n"
      ],
      "metadata": {
        "id": "DuGl6iY10Eek"
      },
      "execution_count": 10,
      "outputs": []
    },
    {
      "cell_type": "code",
      "source": [
        "# Компиляция модели с кастомным оптимизатором\n",
        "custom_optimizer = optimizers.Adam(learning_rate=learning_rate)\n",
        "model.compile(loss='mean_squared_error',\n",
        "              optimizer=custom_optimizer,\n",
        "              metrics=['accuracy'])\n",
        "\n",
        "# Обучение на одном примере\n",
        "history = model.fit(X, Y, epochs=1000, verbose=0)"
      ],
      "metadata": {
        "id": "HitTkeiX0WjW"
      },
      "execution_count": 11,
      "outputs": []
    },
    {
      "cell_type": "code",
      "source": [
        "# Проверка результатов\n",
        "prediction = model.predict(X)\n",
        "print(\"Результаты обучения:\")\n",
        "print(f\"Вход: {X}\")\n",
        "print(f\"Предсказание: {prediction[0][0]:.4f}\")\n",
        "print(f\"Ожидаемый выход: {Y[0][0]}\")\n",
        "print(f\"Ошибка: {np.abs(Y[0][0] - prediction[0][0]):.4f}\")"
      ],
      "metadata": {
        "colab": {
          "base_uri": "https://localhost:8080/"
        },
        "id": "89VdAPiy1Hwl",
        "outputId": "0193a22e-10d8-49b1-8f49-6979b6c579c4"
      },
      "execution_count": 12,
      "outputs": [
        {
          "output_type": "stream",
          "name": "stdout",
          "text": [
            "\u001b[1m1/1\u001b[0m \u001b[32m━━━━━━━━━━━━━━━━━━━━\u001b[0m\u001b[37m\u001b[0m \u001b[1m0s\u001b[0m 250ms/step\n",
            "Результаты обучения:\n",
            "Вход: [[ 0.4 -0.7]]\n",
            "Предсказание: 0.5000\n",
            "Ожидаемый выход: 0.5\n",
            "Ошибка: 0.0000\n"
          ]
        }
      ]
    },
    {
      "cell_type": "markdown",
      "source": [
        "Далее идет вариант собственой архитектуры 2"
      ],
      "metadata": {
        "id": "OKBCFsBL-SWA"
      }
    },
    {
      "cell_type": "code",
      "source": [
        "# Параметры модели\n",
        "learning_rate = 0.5\n",
        "batch_size = 128\n",
        "epochs = 10"
      ],
      "metadata": {
        "id": "uSl9jvJb-JC2"
      },
      "execution_count": 7,
      "outputs": []
    },
    {
      "cell_type": "code",
      "source": [
        "# Комбинированная архитектура 2-2-1 (модель2-модель2-модель1)\n",
        "model6 = Sequential()\n",
        "\n",
        "# Первый блок (модель2) - 2 слоя по 50 нейронов\n",
        "model6.add(Dense(50, input_dim=784,\n",
        "                activation='sigmoid',\n",
        "                kernel_initializer='glorot_uniform'))\n",
        "model6.add(Dense(50,\n",
        "                activation='sigmoid',\n",
        "                kernel_initializer='glorot_uniform'))\n",
        "\n",
        "# Второй блок (модель2) - еще 2 слоя по 50 нейронов\n",
        "model6.add(Dense(50,\n",
        "                activation='sigmoid',\n",
        "                kernel_initializer='glorot_uniform'))\n",
        "model6.add(Dense(50,\n",
        "                activation='sigmoid',\n",
        "                kernel_initializer='glorot_uniform'))\n",
        "\n",
        "# Третий блок (модель1) - выходной слой с 10 нейронами\n",
        "model6.add(Dense(10,\n",
        "                activation='sigmoid',\n",
        "                kernel_initializer='glorot_uniform'))"
      ],
      "metadata": {
        "id": "BsGstxcR-WDU"
      },
      "execution_count": 14,
      "outputs": []
    },
    {
      "cell_type": "code",
      "source": [
        "model6.compile(loss='categorical_crossentropy', optimizer='adam', metrics=['accuracy'])\n",
        "model6.fit(x_train_final, y_train_final, epochs=10, validation_data=(x_val, y_val))\n",
        "_, test_acc6 = model6.evaluate(x_test_flat, y_test_cat)\n",
        "print(f\"Точность собственной архитектуры: {test_acc6}\")"
      ],
      "metadata": {
        "colab": {
          "base_uri": "https://localhost:8080/"
        },
        "id": "bAEdo0mh-jsN",
        "outputId": "5a12d798-0cea-4be4-e715-7c5b0be6a375"
      },
      "execution_count": 17,
      "outputs": [
        {
          "output_type": "stream",
          "name": "stdout",
          "text": [
            "Epoch 1/10\n",
            "\u001b[1m1688/1688\u001b[0m \u001b[32m━━━━━━━━━━━━━━━━━━━━\u001b[0m\u001b[37m\u001b[0m \u001b[1m15s\u001b[0m 4ms/step - accuracy: 0.8969 - loss: 0.2850 - val_accuracy: 0.8773 - val_loss: 0.3404\n",
            "Epoch 2/10\n",
            "\u001b[1m1688/1688\u001b[0m \u001b[32m━━━━━━━━━━━━━━━━━━━━\u001b[0m\u001b[37m\u001b[0m \u001b[1m4s\u001b[0m 3ms/step - accuracy: 0.8973 - loss: 0.2818 - val_accuracy: 0.8798 - val_loss: 0.3369\n",
            "Epoch 3/10\n",
            "\u001b[1m1688/1688\u001b[0m \u001b[32m━━━━━━━━━━━━━━━━━━━━\u001b[0m\u001b[37m\u001b[0m \u001b[1m6s\u001b[0m 3ms/step - accuracy: 0.8991 - loss: 0.2775 - val_accuracy: 0.8808 - val_loss: 0.3368\n",
            "Epoch 4/10\n",
            "\u001b[1m1688/1688\u001b[0m \u001b[32m━━━━━━━━━━━━━━━━━━━━\u001b[0m\u001b[37m\u001b[0m \u001b[1m4s\u001b[0m 3ms/step - accuracy: 0.9031 - loss: 0.2660 - val_accuracy: 0.8760 - val_loss: 0.3436\n",
            "Epoch 5/10\n",
            "\u001b[1m1688/1688\u001b[0m \u001b[32m━━━━━━━━━━━━━━━━━━━━\u001b[0m\u001b[37m\u001b[0m \u001b[1m5s\u001b[0m 3ms/step - accuracy: 0.9055 - loss: 0.2593 - val_accuracy: 0.8750 - val_loss: 0.3466\n",
            "Epoch 6/10\n",
            "\u001b[1m1688/1688\u001b[0m \u001b[32m━━━━━━━━━━━━━━━━━━━━\u001b[0m\u001b[37m\u001b[0m \u001b[1m9s\u001b[0m 3ms/step - accuracy: 0.9075 - loss: 0.2551 - val_accuracy: 0.8773 - val_loss: 0.3488\n",
            "Epoch 7/10\n",
            "\u001b[1m1688/1688\u001b[0m \u001b[32m━━━━━━━━━━━━━━━━━━━━\u001b[0m\u001b[37m\u001b[0m \u001b[1m5s\u001b[0m 3ms/step - accuracy: 0.9094 - loss: 0.2506 - val_accuracy: 0.8805 - val_loss: 0.3314\n",
            "Epoch 8/10\n",
            "\u001b[1m1688/1688\u001b[0m \u001b[32m━━━━━━━━━━━━━━━━━━━━\u001b[0m\u001b[37m\u001b[0m \u001b[1m4s\u001b[0m 3ms/step - accuracy: 0.9132 - loss: 0.2417 - val_accuracy: 0.8873 - val_loss: 0.3261\n",
            "Epoch 9/10\n",
            "\u001b[1m1688/1688\u001b[0m \u001b[32m━━━━━━━━━━━━━━━━━━━━\u001b[0m\u001b[37m\u001b[0m \u001b[1m5s\u001b[0m 3ms/step - accuracy: 0.9120 - loss: 0.2421 - val_accuracy: 0.8862 - val_loss: 0.3380\n",
            "Epoch 10/10\n",
            "\u001b[1m1688/1688\u001b[0m \u001b[32m━━━━━━━━━━━━━━━━━━━━\u001b[0m\u001b[37m\u001b[0m \u001b[1m5s\u001b[0m 3ms/step - accuracy: 0.9136 - loss: 0.2370 - val_accuracy: 0.8837 - val_loss: 0.3366\n",
            "\u001b[1m313/313\u001b[0m \u001b[32m━━━━━━━━━━━━━━━━━━━━\u001b[0m\u001b[37m\u001b[0m \u001b[1m1s\u001b[0m 2ms/step - accuracy: 0.8753 - loss: 0.3626\n",
            "Точность собственной архитектуры: 0.8772000074386597\n"
          ]
        }
      ]
    }
  ]
}