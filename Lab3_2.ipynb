{
  "nbformat": 4,
  "nbformat_minor": 0,
  "metadata": {
    "colab": {
      "provenance": []
    },
    "kernelspec": {
      "name": "python3",
      "display_name": "Python 3"
    },
    "language_info": {
      "name": "python"
    }
  },
  "cells": [
    {
      "cell_type": "code",
      "execution_count": 1,
      "metadata": {
        "id": "9D9God5VyGWm"
      },
      "outputs": [],
      "source": [
        "import numpy as np\n",
        "\n",
        "# Функция активации (сигмоид)\n",
        "def sigmoid(x):\n",
        "    return 1 / (1 + np.exp(-x))\n",
        "\n",
        "def sigmoid_derivative(x):\n",
        "    return x * (1 - x)\n",
        "\n",
        "# Входные данные\n",
        "X = np.array([[0.4, -0.7]])\n",
        "Y = np.array([[0.5]])\n",
        "# Инициализация весов (архитектура 2-2-1)\n",
        "W1 = np.array([[0.9, 5.5],[1.2, -0.7],[-0.5, 0.6]])\n",
        "W2 = np.array([[-0.7],[-0.2],[0.4]])\n",
        "# Параметры обучения\n",
        "learning_rate = 0.5\n",
        "epochs = 1000"
      ]
    },
    {
      "cell_type": "code",
      "source": [
        "# Обучение сети\n",
        "for epoch in range(epochs):\n",
        "    # Прямое распространение\n",
        "\n",
        "    net1 = np.dot(X, W1.T)\n",
        "    out1 = sigmoid(net1)\n",
        "\n",
        "    net2 = np.dot(out1, W2)\n",
        "    out2 = sigmoid(net2)\n",
        "\n",
        "    error = Y - out2\n",
        "\n",
        "    # Обратное распространение\n",
        "    delta2 = error * sigmoid_derivative(out2)\n",
        "\n",
        "    # Дельта для скрытого слоя\n",
        "    delta1 = np.dot(delta2, W2.T) * sigmoid_derivative(out1)\n",
        "\n",
        "    # Коррекция весов\n",
        "    W2 += learning_rate * np.dot(out1.T, delta2)\n",
        "    W1 += learning_rate * np.dot(delta1.T, X)\n",
        "\n",
        "    if epoch % 100 == 0:\n",
        "        print(f\"Эпоха {epoch}, Ошибка: {np.mean(np.abs(error))}\")\n"
      ],
      "metadata": {
        "colab": {
          "base_uri": "https://localhost:8080/"
        },
        "id": "mmKk1vDHyPcV",
        "outputId": "0848a181-882f-475c-9195-9eb241d52bec"
      },
      "execution_count": 2,
      "outputs": [
        {
          "output_type": "stream",
          "name": "stdout",
          "text": [
            "Эпоха 0, Ошибка: 0.006457138971486143\n",
            "Эпоха 100, Ошибка: 0.0008143694310785987\n",
            "Эпоха 200, Ошибка: 0.00010266231620764676\n",
            "Эпоха 300, Ошибка: 1.2941431986768226e-05\n",
            "Эпоха 400, Ошибка: 1.6313659519928692e-06\n",
            "Эпоха 500, Ошибка: 2.0564595692995624e-07\n",
            "Эпоха 600, Ошибка: 2.592321868277736e-08\n",
            "Эпоха 700, Ошибка: 3.267816572893878e-09\n",
            "Эпоха 800, Ошибка: 4.1193282118712204e-10\n",
            "Эпоха 900, Ошибка: 5.192724028546536e-11\n"
          ]
        }
      ]
    },
    {
      "cell_type": "code",
      "source": [
        "# Проверка после обучения\n",
        "net1 = np.dot(X, W1.T)\n",
        "out1 = sigmoid(net1)\n",
        "net2 = np.dot(out1, W2)\n",
        "out2 = sigmoid(net2)"
      ],
      "metadata": {
        "id": "PMjkq-UPzNgD"
      },
      "execution_count": 3,
      "outputs": []
    },
    {
      "cell_type": "code",
      "source": [
        "print(\"\\nРезультаты обучения:\")\n",
        "print(f\"Вход: {X}\")\n",
        "print(f\"Выход сети: {out2}\")\n",
        "print(f\"Эталонный выход: {Y}\")\n",
        "print(f\"Ошибка: {np.abs(Y - out2)}\")"
      ],
      "metadata": {
        "colab": {
          "base_uri": "https://localhost:8080/"
        },
        "id": "fXWZRIKzzO0k",
        "outputId": "bfac4568-c231-4bb7-c871-c8b4a1be6ab9"
      },
      "execution_count": 4,
      "outputs": [
        {
          "output_type": "stream",
          "name": "stdout",
          "text": [
            "\n",
            "Результаты обучения:\n",
            "Вход: [[ 0.4 -0.7]]\n",
            "Выход сети: [[0.5]]\n",
            "Эталонный выход: [[0.5]]\n",
            "Ошибка: [[6.54587495e-12]]\n"
          ]
        }
      ]
    }
  ]
}